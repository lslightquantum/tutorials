{
 "cells": [
  {
   "cell_type": "markdown",
   "metadata": {},
   "source": [
    "# 0.Introduction to Web Crawler & Set Up\n",
    "\n",
    "### Step2"
   ]
  },
  {
   "cell_type": "code",
   "execution_count": 1,
   "metadata": {},
   "outputs": [],
   "source": [
    "import requests"
   ]
  },
  {
   "cell_type": "code",
   "execution_count": 2,
   "metadata": {},
   "outputs": [
    {
     "data": {
      "text/plain": [
       "'https://api.github.com/notifications'"
      ]
     },
     "execution_count": 2,
     "metadata": {},
     "output_type": "execute_result"
    }
   ],
   "source": [
    "x = requests.get('https://api.github.com/')\n",
    "x.json()['notifications_url']"
   ]
  },
  {
   "cell_type": "markdown",
   "metadata": {},
   "source": [
    "# 1.Warm Up\n",
    "\n",
    "### Step 1"
   ]
  },
  {
   "cell_type": "code",
   "execution_count": 3,
   "metadata": {},
   "outputs": [],
   "source": [
    "from bs4 import BeautifulSoup"
   ]
  },
  {
   "cell_type": "code",
   "execution_count": 4,
   "metadata": {},
   "outputs": [
    {
     "name": "stdout",
     "output_type": "stream",
     "text": [
      "<span classname=\"sr-only\">The Verge homepage</span>\n",
      "51\n",
      "47\n"
     ]
    }
   ],
   "source": [
    "with open('theVerge.html', encoding='utf-8') as f:\n",
    "    data = f.read()\n",
    "    soup = BeautifulSoup(data, 'html.parser')\n",
    "span = soup('span')\n",
    "print(span[4])\n",
    "h2 = soup('h2')\n",
    "print(len(h2))\n",
    "number_of_a = 0\n",
    "for i in range (len(h2)):\n",
    "    for child in h2[i]('a'):\n",
    "        number_of_a += 1\n",
    "print(number_of_a)"
   ]
  },
  {
   "cell_type": "markdown",
   "metadata": {},
   "source": [
    "# 2.Improve Robustness\n",
    "\n",
    "### Step 1"
   ]
  },
  {
   "cell_type": "code",
   "execution_count": 5,
   "metadata": {},
   "outputs": [],
   "source": [
    "proxies = {\n",
    "  'http': '209.97.182.201:8118',\n",
    "  'https': '128.199.214.87:3128',\n",
    "}\n",
    "\n",
    "\n",
    "x = requests.get('https://api.github.com/', proxies=proxies)"
   ]
  },
  {
   "cell_type": "markdown",
   "metadata": {},
   "source": [
    "### Step 2"
   ]
  },
  {
   "cell_type": "code",
   "execution_count": 6,
   "metadata": {},
   "outputs": [],
   "source": [
    "headers = {\n",
    "    'User-Agent': 'Chrome'\n",
    "}\n",
    "\n",
    "x = requests.get('https://api.github.com/', headers=headers)"
   ]
  },
  {
   "cell_type": "markdown",
   "metadata": {},
   "source": [
    "### Step 3"
   ]
  },
  {
   "cell_type": "code",
   "execution_count": 7,
   "metadata": {},
   "outputs": [],
   "source": [
    "x = requests.get('https://api.github.com/', verify='cacert.pem')"
   ]
  },
  {
   "cell_type": "markdown",
   "metadata": {},
   "source": [
    "# 3.Improve Performance\n",
    "\n",
    "### Step 1"
   ]
  },
  {
   "cell_type": "code",
   "execution_count": 8,
   "metadata": {},
   "outputs": [
    {
     "name": "stdout",
     "output_type": "stream",
     "text": [
      "50000005000000\n"
     ]
    }
   ],
   "source": [
    "from concurrent.futures import ThreadPoolExecutor\n",
    "import threading\n",
    "\n",
    "lock = threading.Lock()\n",
    "executor = ThreadPoolExecutor(10)\n",
    "x = [0]\n",
    "def sum_from_to(x, m, n):\n",
    "    temp = 0\n",
    "    for i in range(m, n):\n",
    "        temp += i\n",
    "    lock.acquire()\n",
    "    x[0] += temp\n",
    "    lock.release()\n",
    "    \n",
    "for i in range(10):\n",
    "    executor.submit(sum_from_to, x, i*10000000//10 + 1, (i+1)*10000000//10 + 1)\n",
    "\n",
    "executor.shutdown()\n",
    "\n",
    "print(x[0])"
   ]
  },
  {
   "cell_type": "markdown",
   "metadata": {},
   "source": [
    "### Step 2\n",
    "\n",
    "(The code in this cell does not work in Jupyter notebook.)\n",
    "\n",
    "```Python\n",
    "from concurrent.futures import ProcessPoolExecutor, as_completed\n",
    "\n",
    "def sum_from_to(m, n):\n",
    "    x = 0\n",
    "    for i in range(m, n):\n",
    "        x += i\n",
    "    return x\n",
    "\n",
    "if __name__ == \"__main__\":\n",
    "        \n",
    "    executor = ProcessPoolExecutor(4)\n",
    "\n",
    "    task_list = [executor.submit(sum_from_to, int(i*10000000//10 + 1), int((i+1)*10000000//10 + 1)) for i in range(10)]\n",
    "    results = [task.result() for task in as_completed(task_list)]\n",
    "    result = sum(results)\n",
    "    \n",
    "    print(result)\n",
    "```"
   ]
  },
  {
   "cell_type": "markdown",
   "metadata": {},
   "source": [
    "# 4.Use Webdriver\n",
    "\n",
    "### Step 2"
   ]
  },
  {
   "cell_type": "code",
   "execution_count": 9,
   "metadata": {},
   "outputs": [],
   "source": [
    "from selenium import webdriver\n",
    "\n",
    "driver = webdriver.Chrome()\n",
    "driver.get('https://www.linkedin.com/')"
   ]
  },
  {
   "cell_type": "code",
   "execution_count": 10,
   "metadata": {},
   "outputs": [],
   "source": [
    "myname = 'myname'\n",
    "mypassword = 'mypassword'\n",
    "\n",
    "username = driver.find_element_by_id('session_key')\n",
    "username.clear()\n",
    "username.send_keys(myname)\n",
    "username = driver.find_element_by_id('session_password')\n",
    "username.clear()\n",
    "username.send_keys(mypassword)\n",
    "driver.find_element_by_class_name('sign-in-form__submit-button').click()"
   ]
  }
 ],
 "metadata": {
  "kernelspec": {
   "display_name": "Python 3",
   "language": "python",
   "name": "python3"
  },
  "language_info": {
   "codemirror_mode": {
    "name": "ipython",
    "version": 3
   },
   "file_extension": ".py",
   "mimetype": "text/x-python",
   "name": "python",
   "nbconvert_exporter": "python",
   "pygments_lexer": "ipython3",
   "version": "3.7.7"
  }
 },
 "nbformat": 4,
 "nbformat_minor": 4
}
