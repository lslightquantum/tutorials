{
 "cells": [
  {
   "cell_type": "code",
   "execution_count": null,
   "metadata": {
    "colab": {},
    "colab_type": "code",
    "id": "imWeHPp2yqrz"
   },
   "outputs": [],
   "source": [
    "def build_vocab(file_path):\n",
    "    words = set()\n",
    "    tags = set()\n",
    "    with open(file_path) as file:\n",
    "        for line in file:\n",
    "            line = line.split()\n",
    "            if line:\n",
    "                words.add(line[0])\n",
    "                tags.add(line[1])\n",
    "    tags.add('PAD_TAG')\n",
    "    return {'words': words, 'tags': tags}"
   ]
  },
  {
   "cell_type": "code",
   "execution_count": null,
   "metadata": {
    "colab": {},
    "colab_type": "code",
    "id": "xsTVohYfyqr4"
   },
   "outputs": [],
   "source": [
    "vocab = build_vocab('ner/train.txt')"
   ]
  },
  {
   "cell_type": "code",
   "execution_count": null,
   "metadata": {
    "colab": {},
    "colab_type": "code",
    "id": "GIz5OuMOyqr8"
   },
   "outputs": [],
   "source": [
    "def get_idx_map(vocab):\n",
    "    word2idx = {}\n",
    "    for i, word in enumerate(vocab['words']):\n",
    "        word2idx[word] = i\n",
    "    idx2word = {idx: word for word, idx in word2idx.items()}\n",
    "\n",
    "    tag2idx = {}\n",
    "    for i, tag in enumerate(vocab['tags']):\n",
    "        tag2idx[tag] = i\n",
    "    idx2tag = {idx: tag for tag, idx in tag2idx.items()}\n",
    "    return word2idx, tag2idx, idx2word, idx2tag"
   ]
  },
  {
   "cell_type": "code",
   "execution_count": null,
   "metadata": {
    "colab": {},
    "colab_type": "code",
    "id": "HrEugVlZyqsA"
   },
   "outputs": [],
   "source": [
    "word2idx, tag2idx, idx2word, idx2tag = get_idx_map(vocab)\n",
    "tagset_size = len(tag2idx)"
   ]
  },
  {
   "cell_type": "code",
   "execution_count": null,
   "metadata": {
    "colab": {},
    "colab_type": "code",
    "id": "K-iyIxzqyqsL"
   },
   "outputs": [],
   "source": [
    "def load_data(file_path):\n",
    "    sentences = []\n",
    "    labels = []\n",
    "    with open(file_path) as file:\n",
    "        words = []\n",
    "        tags = []\n",
    "        for line in file:\n",
    "            line = line.split()\n",
    "            if not line and words:\n",
    "                sentences.append(words)\n",
    "                labels.append(tags)\n",
    "                words = []\n",
    "                tags = []\n",
    "            else:\n",
    "                words.append(line[0])\n",
    "                tags.append(line[1])\n",
    "    return {'sentences': sentences, 'labels': labels}"
   ]
  },
  {
   "cell_type": "code",
   "execution_count": null,
   "metadata": {
    "colab": {},
    "colab_type": "code",
    "id": "OvjicKJgyqsP"
   },
   "outputs": [],
   "source": [
    "data_train = load_data('ner/train.txt')\n",
    "data_valid = load_data('ner/valid.txt')\n",
    "data_test = load_data('ner/test.txt')"
   ]
  },
  {
   "cell_type": "code",
   "execution_count": null,
   "metadata": {
    "colab": {},
    "colab_type": "code",
    "id": "hjpYaBuiESRu"
   },
   "outputs": [],
   "source": [
    "def encode_sentence(sentence, tokenizer):\n",
    "    input_ids = [101]\n",
    "    token_start_loc = []\n",
    "    for token in sentence:\n",
    "        token_start_loc.append(len(input_ids))\n",
    "        input_ids += tokenizer.tokenize(token)\n",
    "    input_ids = tokenizer.convert_tokens_to_ids(input_ids)\n",
    "    input_ids.append(102)\n",
    "    return input_ids, token_start_loc"
   ]
  },
  {
   "cell_type": "code",
   "execution_count": null,
   "metadata": {
    "colab": {},
    "colab_type": "code",
    "id": "opLiteXEik3m"
   },
   "outputs": [],
   "source": [
    "def batch_encode_sentences(batch_sentences, tokenizer):\n",
    "    batch_input_ids = []\n",
    "    batch_token_start_loc = []\n",
    "    for sentence in batch_sentences:\n",
    "        input_ids, token_start_loc = encode_sentence(sentence, tokenizer)\n",
    "        batch_input_ids.append(input_ids)\n",
    "        batch_token_start_loc.append(token_start_loc)\n",
    "    return batch_input_ids, batch_token_start_loc"
   ]
  },
  {
   "cell_type": "code",
   "execution_count": null,
   "metadata": {
    "colab": {},
    "colab_type": "code",
    "id": "ZwlCSMvW85jR"
   },
   "outputs": [],
   "source": [
    "from numpy import random\n",
    "import torch\n",
    "\n",
    "def get_data_loader(sentences, labels, tokenizer, batch_size, shuffle=False, random_seed=0):\n",
    "    indices = list(range(len(labels)))\n",
    "    if shuffle:\n",
    "        random.seed(random_seed)\n",
    "        random.shuffle(indices)\n",
    "    for i in range((len(indices) - 1) // batch_size + 1):\n",
    "        batch_sentences = [sentences[idx] for idx in indices[i*batch_size:(i+1)*batch_size]]\n",
    "        batch_labels = [labels[idx] for idx in indices[i*batch_size:(i+1)*batch_size]]\n",
    "        batch_input_ids, batch_token_start_loc = batch_encode_sentences(batch_sentences, tokenizer)\n",
    "\n",
    "        max_ids_len = max([len(input_ids) for input_ids in batch_input_ids])\n",
    "        max_sentence_len = max([len(sentence) for sentence in batch_sentences])\n",
    "\n",
    "        batch_modified_labels = [[tag2idx[tag] for tag in labels] + [-1]*(max_sentence_len-len(labels)) for labels in batch_labels]\n",
    "        batch_masks = []\n",
    "        batch_start_masks = []\n",
    "        for i in range(len(batch_sentences)):\n",
    "            input_ids = batch_input_ids[i]\n",
    "\n",
    "            attention_mask = [1]*len(input_ids) + [0]*(max_ids_len-len(input_ids))\n",
    "            batch_masks.append(attention_mask)\n",
    "\n",
    "            token_start_loc = batch_token_start_loc[i]\n",
    "            input_ids += [0]*(max_ids_len-len(input_ids))\n",
    "\n",
    "            start_mask = [0]*max_ids_len\n",
    "            for j in range(len(token_start_loc)):\n",
    "                start_mask[token_start_loc[j]] = 1\n",
    "            batch_start_masks.append(start_mask)\n",
    "                \n",
    "        batch_input_ids = torch.LongTensor(batch_input_ids) \n",
    "        batch_modified_labels = torch.LongTensor(batch_modified_labels)\n",
    "        batch_masks = torch.LongTensor(batch_masks)\n",
    "        batch_start_masks = torch.LongTensor(batch_start_masks)\n",
    "        \n",
    "        yield batch_input_ids, batch_modified_labels, batch_masks, batch_start_masks"
   ]
  },
  {
   "cell_type": "code",
   "execution_count": null,
   "metadata": {
    "colab": {},
    "colab_type": "code",
    "id": "jvAcnMG3rekv"
   },
   "outputs": [],
   "source": [
    "from transformers import BertForTokenClassification\n",
    "from transformers import AdamW\n",
    "import logging\n",
    "logging.getLogger(\"transformers.modeling_utils\").setLevel(logging.ERROR)"
   ]
  },
  {
   "cell_type": "code",
   "execution_count": null,
   "metadata": {
    "colab": {},
    "colab_type": "code",
    "id": "w4BvkW1F_tnf"
   },
   "outputs": [],
   "source": [
    "import numpy as np\n",
    "\n",
    "class Metrics:\n",
    "    def __init__(self, tag2idx):\n",
    "        self.B2I = dict()\n",
    "        for tag, idx in tag2idx.items():\n",
    "            if tag.startswith('B'):\n",
    "                I_idx = tag2idx['I-'+tag[2:]]\n",
    "                self.B2I[idx] = I_idx\n",
    "\n",
    "    def end_of_entity(self, tags, start_loc):\n",
    "        if start_loc > len(tags) - 1:\n",
    "            return -1\n",
    "        if not tags[start_loc] in self.B2I:\n",
    "            return -1\n",
    "        end_loc = start_loc + 1\n",
    "        while not (end_loc >= len(tags) or tags[end_loc] < 0 \n",
    "                or tags[end_loc] == tag2idx['O'] or tags[end_loc] in self.B2I):\n",
    "            end_loc += 1\n",
    "            \n",
    "        B_idx = tags[start_loc]\n",
    "        I_idx = self.B2I[B_idx]\n",
    "        for i in range(start_loc+1, end_loc):\n",
    "            if tags[i] != I_idx:\n",
    "                return -1\n",
    "            \n",
    "        return end_loc\n",
    "\n",
    "    def get_ne_loc(self, tags):\n",
    "        ne_loc = set()\n",
    "        for i in range(len(tags)):\n",
    "            if tags[i] in self.B2I:\n",
    "                j = self.end_of_entity(tags, i)\n",
    "                if j > 0:\n",
    "                    ne_loc.add((i, j, tags[i]))\n",
    "        return ne_loc\n",
    "\n",
    "    def f1_score(self, preds, labels):\n",
    "        preds_ne_loc = self.get_ne_loc(preds)\n",
    "        labels_ne_loc = self.get_ne_loc(labels)\n",
    "        true_pos = len(preds_ne_loc.intersection(labels_ne_loc))\n",
    "        precision_weight = len(preds_ne_loc)\n",
    "        recall_weight = len(labels_ne_loc)\n",
    "        if precision_weight == 0 or recall_weight == 0:\n",
    "            return -1, (0, 0, 0, 0)\n",
    "        precision = true_pos/precision_weight\n",
    "        recall = true_pos/recall_weight\n",
    "        if precision + recall == 0:\n",
    "            return 0, (0, 0, precision_weight, recall_weight)\n",
    "        f1 = 2*(precision*recall)/(precision+recall)\n",
    "\n",
    "        return f1, (precision, recall, precision_weight, recall_weight)\n",
    "\n",
    "    def average_f1_score(self, f1_measurements):\n",
    "        measurements = np.array(f1_measurements)\n",
    "        precisions = measurements[:, 0]\n",
    "        recalls = measurements[:, 1]\n",
    "        precision_weights = measurements[:, 2]\n",
    "        recall_weights = measurements[:, 3]\n",
    "        total_precision_weights = np.sum(precision_weights)\n",
    "        total_racall_weights = np.sum(recall_weights)\n",
    "        if total_precision_weights == 0 or total_racall_weights == 0:\n",
    "            return 0\n",
    "        precision = np.sum(precisions*precision_weights)/total_precision_weights\n",
    "        recall = np.sum(recalls*recall_weights)/total_racall_weights\n",
    "        if (precision+recall) == 0:\n",
    "            return 0\n",
    "        f1 = 2*(precision*recall)/(precision+recall)\n",
    "        return f1\n",
    "\n",
    "    def accuracy(outputs, labels):\n",
    "        mask = (labels >= 0)\n",
    "        n_tokens = int(np.sum(mask))\n",
    "        \n",
    "        return np.sum(labels == np.argmax(outputs, axis=1)) / n_tokens\n"
   ]
  },
  {
   "cell_type": "code",
   "execution_count": null,
   "metadata": {
    "colab": {},
    "colab_type": "code",
    "id": "7qJ1LHE6B2uD"
   },
   "outputs": [],
   "source": [
    "metrics = Metrics(tag2idx)"
   ]
  },
  {
   "cell_type": "code",
   "execution_count": null,
   "metadata": {
    "colab": {},
    "colab_type": "code",
    "id": "H7Ev75POauHo"
   },
   "outputs": [],
   "source": [
    "from torch import nn\n",
    "import torch.nn.functional as F\n",
    "\n",
    "class BertSeqLabel(nn.Module):\n",
    "    def __init__(self, bert_type, tagset_size):\n",
    "        super(BertSeqLabel, self).__init__()\n",
    "        self.bert = BertForTokenClassification.from_pretrained(bert_type, num_labels=tagset_size)\n",
    "    \n",
    "    def forward(self, input_ids, attention_mask, start_masks):\n",
    "        outputs = self.bert(input_ids, attention_mask)[0]\n",
    "        reduced_outputs = [outputs[i][start_masks[i]>0, :] for i in range(len(outputs))]\n",
    "        max_len = max([reduced_output.shape[0] for reduced_output in reduced_outputs])\n",
    "        reduced_outputs = torch.stack([torch.cat((reduced_output, \n",
    "                                                 torch.zeros(max_len - reduced_output.shape[0], \n",
    "                                                             reduced_output.shape[1]).cuda()), dim=0) for reduced_output in reduced_outputs])\n",
    "        return reduced_outputs"
   ]
  },
  {
   "cell_type": "code",
   "execution_count": null,
   "metadata": {
    "colab": {},
    "colab_type": "code",
    "id": "E7xeREr9yqsm"
   },
   "outputs": [],
   "source": [
    "from tqdm.auto import tqdm\n",
    "\n",
    "def train(model, criterion, metrics, optimizer, data_loader, data_len, schedule_lr=False, scheduler=None, mixed_precision=False, scaler=None):\n",
    "    model.train()\n",
    "    train_loss, train_f1 = float('inf'), 0.\n",
    "    losses = []\n",
    "    f1_measurements = []\n",
    "    tqdm_iterator = tqdm(enumerate(data_loader), total=data_len, leave=False, disable=True)\n",
    "    summary_every = data_len//10\n",
    "    for i, data in tqdm_iterator:\n",
    "        input_ids = data[0].cuda()\n",
    "        attention_mask = data[2].cuda()\n",
    "        labels = data[1].cuda()\n",
    "        start_mask = data[3].cuda()\n",
    "\n",
    "        if mixed_precision:\n",
    "            with torch.cuda.amp.autocast():\n",
    "                outputs = model(input_ids, attention_mask, start_mask)\n",
    "                loss = criterion(outputs.view(-1, outputs.shape[-1]), labels.view(-1))\n",
    "\n",
    "            optimizer.zero_grad()\n",
    "            scaler.scale(loss).backward()\n",
    "            scaler.step(optimizer)\n",
    "            scaler.update()\n",
    "            if schedule_lr:\n",
    "                # this if condition is added to prevent \"UserWarning: Detected call of `lr_scheduler.step()` before `optimizer.step()`.\"\n",
    "                if optimizer._step_count >= 1:\n",
    "                    scheduler.step()\n",
    "        else:\n",
    "            outputs = model(input_ids, attention_mask, start_mask)\n",
    "            loss = criterion(outputs.view(-1, outputs.shape[-1]), labels.view(-1))\n",
    "            optimizer.zero_grad()\n",
    "            loss.backward()   \n",
    "            optimizer.step()\n",
    "            if schedule_lr:\n",
    "                scheduler.step()\n",
    "\n",
    "        losses.append(loss.item())\n",
    "        outputs, labels = outputs.view(-1, outputs.shape[-1]).data.cpu().numpy(), labels.data.cpu().numpy()\n",
    "        outputs = np.argmax(outputs, axis=1).flatten()\n",
    "        labels = labels.flatten()\n",
    "        padding_loc = labels<0\n",
    "        outputs[padding_loc] = labels[padding_loc]\n",
    "        _, batch_measurements = metrics.f1_score(outputs, labels.flatten())\n",
    "        assert(len(outputs) == len(labels.flatten()))\n",
    "        f1_measurements.append(batch_measurements)\n",
    "        \n",
    "        if i % summary_every == 0:\n",
    "            train_loss = float(np.mean(losses))\n",
    "            train_f1 = float(metrics.average_f1_score(f1_measurements))\n",
    "            tqdm_iterator.set_postfix(loss='{:.4f}'.format(train_loss), f1='{:.4f}'.format(train_f1))\n",
    "            losses = []\n",
    "            f1_measurements = []\n",
    "    return float(train_loss), float(train_f1)"
   ]
  },
  {
   "cell_type": "code",
   "execution_count": null,
   "metadata": {
    "colab": {},
    "colab_type": "code",
    "id": "Yl1pzDxw0JzV"
   },
   "outputs": [],
   "source": [
    "def evaluate(model, criterion, metrics, data_loader, data_len):\n",
    "    model.eval()\n",
    "    losses = []\n",
    "    f1_measurements = []\n",
    "    tqdm_iterator = tqdm(enumerate(data_loader), total=data_len, leave=False, disable=True)\n",
    "    with torch.no_grad():\n",
    "        for i, data in tqdm_iterator:\n",
    "            input_ids = data[0].cuda()\n",
    "            attention_mask = data[2].cuda()\n",
    "            labels = data[1].cuda()\n",
    "            start_mask = data[3].cuda()\n",
    "            outputs = model(input_ids, attention_mask, start_mask)\n",
    "            loss = criterion(outputs.view(-1, outputs.shape[-1]), labels.view(-1))\n",
    "            losses.append(loss.item())\n",
    "            outputs, labels = outputs.view(-1, outputs.shape[-1]).data.cpu().numpy(), labels.data.cpu().numpy()\n",
    "            outputs = np.argmax(outputs, axis=1).flatten()\n",
    "            labels = labels.flatten()\n",
    "            padding_loc = labels<0\n",
    "            outputs[padding_loc] = labels[padding_loc]\n",
    "            _, batch_measurements = metrics.f1_score(outputs, labels.flatten())\n",
    "            assert(len(outputs) == len(labels.flatten()))\n",
    "            f1_measurements.append(batch_measurements)\n",
    "\n",
    "    eval_loss = float(np.mean(losses))\n",
    "    eval_f1 = float(metrics.average_f1_score(f1_measurements))\n",
    "    \n",
    "    return float(eval_loss), float(eval_f1)"
   ]
  },
  {
   "cell_type": "code",
   "execution_count": null,
   "metadata": {
    "colab": {},
    "colab_type": "code",
    "id": "tDCBykqr_3ZL"
   },
   "outputs": [],
   "source": [
    "from transformers import get_linear_schedule_with_warmup\n",
    "\n",
    "def train_and_evaluate(model, criterion, metrics, optimizer,\n",
    "                       train_data, valid_data, tokenizer, batch_size, n_epochs, \n",
    "                       schedule_lr=False, mixed_precision=False):\n",
    "    best_eval_loss = float('inf')\n",
    "    best_epochs = 0\n",
    "    summary = {'train': {'loss': [], 'f1': []}, \n",
    "               'val': {'loss': [], 'f1': []}}\n",
    "    print('start training: ')\n",
    "    train_data_len = (len(train_data['sentences']) - 1) // batch_size + 1\n",
    "    eval_data_len = (len(valid_data['sentences']) - 1) // batch_size + 1\n",
    "\n",
    "    scheduler = None\n",
    "    if schedule_lr:\n",
    "        scheduler = get_linear_schedule_with_warmup(optimizer, num_warmup_steps=0, \n",
    "                                                    num_training_steps=train_data_len*n_epochs)\n",
    "    scaler = None\n",
    "    if mixed_precision:\n",
    "        scaler = torch.cuda.amp.GradScaler()\n",
    "        \n",
    "    for i in range(1, n_epochs + 1):\n",
    "        print('-'*50)\n",
    "        print('epoch ', i, ':')\n",
    "        train_data_loader = get_data_loader(train_data['sentences'], train_data['labels'], tokenizer, batch_size)\n",
    "        train_loss, train_f1 = train(model, criterion, metrics, optimizer, train_data_loader, train_data_len, schedule_lr, scheduler, mixed_precision, scaler)\n",
    "        summary['train']['loss'].append(train_loss)\n",
    "        summary['train']['f1'].append(train_f1)\n",
    "        print('train loss: {:.4f}; train f1: {:.4f}'.format(train_loss, train_f1))\n",
    "        \n",
    "        eval_data_loader = get_data_loader(valid_data['sentences'], valid_data['labels'], tokenizer, batch_size)\n",
    "        eval_loss, eval_f1 = evaluate(model, criterion, metrics, eval_data_loader, eval_data_len)\n",
    "        if eval_loss < best_eval_loss:\n",
    "            best_eval_loss = eval_loss\n",
    "            best_epochs = i\n",
    "        summary['val']['loss'].append(eval_loss)\n",
    "        summary['val']['f1'].append(eval_f1)\n",
    "        print('eval loss: {:.4f}; eval f1: {:.4f}'.format(eval_loss, eval_f1))\n",
    "    print('-'*50)\n",
    "    print('finish training.')\n",
    "    \n",
    "    summary['best_eval_loss'] = best_eval_loss\n",
    "    summary['best_epochs'] = best_epochs\n",
    "        \n",
    "    return summary"
   ]
  },
  {
   "cell_type": "code",
   "execution_count": null,
   "metadata": {
    "colab": {},
    "colab_type": "code",
    "id": "odzCCr4-yqso"
   },
   "outputs": [],
   "source": [
    "from transformers import BertTokenizer\n",
    "from torch.optim import Adam\n",
    "\n",
    "tokenizer = BertTokenizer.from_pretrained('bert-base-cased')\n",
    "model = BertSeqLabel('bert-base-cased', tagset_size).cuda()\n",
    "criterion = nn.CrossEntropyLoss(ignore_index = -1)\n",
    "#optimizer = AdamW(model.parameters(), lr=1e-5, weight_decay=0.02)\n",
    "optimizer = Adam(model.parameters(), lr=5e-5)"
   ]
  },
  {
   "cell_type": "code",
   "execution_count": null,
   "metadata": {
    "colab": {},
    "colab_type": "code",
    "id": "W8_MGPN7yqss"
   },
   "outputs": [],
   "source": [
    "batch_size = 16\n",
    "n_epochs = 7"
   ]
  },
  {
   "cell_type": "code",
   "execution_count": null,
   "metadata": {
    "colab": {
     "base_uri": "https://localhost:8080/",
     "height": 552
    },
    "colab_type": "code",
    "executionInfo": {
     "elapsed": 735598,
     "status": "ok",
     "timestamp": 1597611509279,
     "user": {
      "displayName": "SHUAI LIU",
      "photoUrl": "",
      "userId": "07410506735890927073"
     },
     "user_tz": 420
    },
    "id": "AdNLHR7OBJQI",
    "outputId": "2eacec51-25e7-4dd3-c7f4-e1f35a45776e"
   },
   "outputs": [
    {
     "name": "stdout",
     "output_type": "stream",
     "text": [
      "start training: \n",
      "--------------------------------------------------\n",
      "epoch  1 :\n",
      "train loss: 0.0685; train f1: 0.8963\n",
      "eval loss: 0.0571; eval f1: 0.9214\n",
      "--------------------------------------------------\n",
      "epoch  2 :\n",
      "train loss: 0.0295; train f1: 0.9477\n",
      "eval loss: 0.0533; eval f1: 0.9327\n",
      "--------------------------------------------------\n",
      "epoch  3 :\n",
      "train loss: 0.0170; train f1: 0.9696\n",
      "eval loss: 0.0441; eval f1: 0.9457\n",
      "--------------------------------------------------\n",
      "epoch  4 :\n",
      "train loss: 0.0099; train f1: 0.9774\n",
      "eval loss: 0.0455; eval f1: 0.9488\n",
      "--------------------------------------------------\n",
      "epoch  5 :\n",
      "train loss: 0.0057; train f1: 0.9902\n",
      "eval loss: 0.0483; eval f1: 0.9492\n",
      "--------------------------------------------------\n",
      "epoch  6 :\n",
      "train loss: 0.0027; train f1: 0.9936\n",
      "eval loss: 0.0502; eval f1: 0.9488\n",
      "--------------------------------------------------\n",
      "epoch  7 :\n",
      "train loss: 0.0015; train f1: 0.9966\n",
      "eval loss: 0.0497; eval f1: 0.9513\n",
      "--------------------------------------------------\n",
      "finish training.\n"
     ]
    }
   ],
   "source": [
    "summary = train_and_evaluate(model, criterion, metrics, optimizer, data_train, data_valid, \n",
    "                             tokenizer, batch_size, n_epochs, schedule_lr=True, mixed_precision=False)"
   ]
  },
  {
   "cell_type": "code",
   "execution_count": null,
   "metadata": {
    "colab": {},
    "colab_type": "code",
    "id": "yeJpTYprFWnq"
   },
   "outputs": [],
   "source": [
    "import matplotlib.pyplot as plt\n",
    "\n",
    "def plot_summary(summary):\n",
    "    data_len = len(summary['train']['loss'])\n",
    "\n",
    "    plt.figure(figsize=(15,5))\n",
    "    plt.subplots_adjust(wspace=0.3, hspace=0.3)\n",
    "\n",
    "    plt.subplot(121)\n",
    "    plt.subplots_adjust(wspace=0.3, hspace=0.3)\n",
    "    plt.plot(np.arange(1, data_len+1), summary['train']['loss'],  label='train')\n",
    "    plt.plot(np.arange(1, data_len+1), summary['val']['loss'], label='val')\n",
    "    plt.legend()\n",
    "    plt.xlabel('number of epochs', fontsize=12)\n",
    "    plt.ylabel('loss', fontsize=12)\n",
    "\n",
    "    plt.subplot(122)\n",
    "    plt.plot(np.arange(1, data_len+1), summary['train']['f1'],  label='train')\n",
    "    plt.plot(np.arange(1, data_len+1), summary['val']['f1'], label='val')\n",
    "    plt.legend()\n",
    "    plt.xlabel('number of epochs', fontsize=12)\n",
    "    plt.ylabel('f1', fontsize=12)\n",
    "\n",
    "    plt.show()"
   ]
  },
  {
   "cell_type": "code",
   "execution_count": null,
   "metadata": {
    "colab": {
     "base_uri": "https://localhost:8080/",
     "height": 337
    },
    "colab_type": "code",
    "executionInfo": {
     "elapsed": 732954,
     "status": "ok",
     "timestamp": 1597611509648,
     "user": {
      "displayName": "SHUAI LIU",
      "photoUrl": "",
      "userId": "07410506735890927073"
     },
     "user_tz": 420
    },
    "id": "E-3lde3yFZwd",
    "outputId": "b9380312-be0d-4acb-ac14-23cf271ceafb"
   },
   "outputs": [
    {
     "data": {
      "image/png": "[encoded data removed]",
      "text/plain": [
       "<Figure size 1080x360 with 2 Axes>"
      ]
     },
     "metadata": {
      "needs_background": "light",
      "tags": []
     },
     "output_type": "display_data"
    }
   ],
   "source": [
    "plot_summary(summary)"
   ]
  },
  {
   "cell_type": "code",
   "execution_count": null,
   "metadata": {
    "colab": {},
    "colab_type": "code",
    "id": "i8vQV3XjSx4r"
   },
   "outputs": [],
   "source": [
    "def test(model, criterion, metrics, test_data, tokenizer, batch_size):\n",
    "    test_data_loader = get_data_loader(test_data['sentences'], test_data['labels'], tokenizer, batch_size)\n",
    "    test_data_len = (len(test_data['sentences']) - 1) // batch_size + 1\n",
    "    test_loss, test_f1 = evaluate(model, criterion, metrics, test_data_loader, test_data_len)\n",
    "\n",
    "    print('test loss: {:.4f}; test f1: {:.4f}'.format(test_loss, test_f1))"
   ]
  },
  {
   "cell_type": "code",
   "execution_count": null,
   "metadata": {
    "colab": {
     "base_uri": "https://localhost:8080/",
     "height": 34
    },
    "colab_type": "code",
    "executionInfo": {
     "elapsed": 737822,
     "status": "ok",
     "timestamp": 1597611517034,
     "user": {
      "displayName": "SHUAI LIU",
      "photoUrl": "",
      "userId": "07410506735890927073"
     },
     "user_tz": 420
    },
    "id": "GXiCVd1dTh_B",
    "outputId": "93f71963-5c26-4210-ccf5-9dfe5584acd3"
   },
   "outputs": [
    {
     "name": "stdout",
     "output_type": "stream",
     "text": [
      "test loss: 0.1552; test f1: 0.9141\n"
     ]
    }
   ],
   "source": [
    "test(model, criterion, metrics, data_test, tokenizer, batch_size)"
   ]
  }
 ],
 "metadata": {
  "accelerator": "GPU",
  "colab": {
   "collapsed_sections": [],
   "name": "Bert_ner_tagging.ipynb",
   "provenance": [
    {
     "file_id": "1XZHalJhMqCPjpdUmUUI1TLBjBi-d8PnB",
     "timestamp": 1597272189650
    }
   ]
  },
  "kernelspec": {
   "display_name": "Python 3",
   "language": "python",
   "name": "python3"
  },
  "language_info": {
   "codemirror_mode": {
    "name": "ipython",
    "version": 3
   },
   "file_extension": ".py",
   "mimetype": "text/x-python",
   "name": "python",
   "nbconvert_exporter": "python",
   "pygments_lexer": "ipython3",
   "version": "3.7.7"
  }
 },
 "nbformat": 4,
 "nbformat_minor": 1
}
