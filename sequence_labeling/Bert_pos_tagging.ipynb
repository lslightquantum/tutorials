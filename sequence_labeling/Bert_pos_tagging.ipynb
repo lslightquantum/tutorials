{
 "cells": [
  {
   "cell_type": "code",
   "execution_count": null,
   "metadata": {
    "colab": {},
    "colab_type": "code",
    "id": "imWeHPp2yqrz"
   },
   "outputs": [],
   "source": [
    "def build_vocab(file_path):\n",
    "    words = set()\n",
    "    tags = set()\n",
    "    with open(file_path) as file:\n",
    "        for line in file:\n",
    "            line = line.split()\n",
    "            if line:\n",
    "                words.add(line[0])\n",
    "                tags.add(line[1])\n",
    "    tags.add('PAD_TAG')\n",
    "    return {'words': words, 'tags': tags}"
   ]
  },
  {
   "cell_type": "code",
   "execution_count": null,
   "metadata": {
    "colab": {},
    "colab_type": "code",
    "id": "xsTVohYfyqr4"
   },
   "outputs": [],
   "source": [
    "vocab = build_vocab('pos/train.txt')"
   ]
  },
  {
   "cell_type": "code",
   "execution_count": null,
   "metadata": {
    "colab": {},
    "colab_type": "code",
    "id": "GIz5OuMOyqr8"
   },
   "outputs": [],
   "source": [
    "def get_idx_map(vocab):\n",
    "    word2idx = {}\n",
    "    for i, word in enumerate(vocab['words']):\n",
    "        word2idx[word] = i\n",
    "    idx2word = {idx: word for word, idx in word2idx.items()}\n",
    "\n",
    "    tag2idx = {}\n",
    "    for i, tag in enumerate(vocab['tags']):\n",
    "        tag2idx[tag] = i\n",
    "    idx2tag = {idx: tag for tag, idx in tag2idx.items()}\n",
    "    return word2idx, tag2idx, idx2word, idx2tag"
   ]
  },
  {
   "cell_type": "code",
   "execution_count": null,
   "metadata": {
    "colab": {},
    "colab_type": "code",
    "id": "HrEugVlZyqsA"
   },
   "outputs": [],
   "source": [
    "word2idx, tag2idx, idx2word, idx2tag = get_idx_map(vocab)\n",
    "tagset_size = len(tag2idx)"
   ]
  },
  {
   "cell_type": "code",
   "execution_count": null,
   "metadata": {
    "colab": {},
    "colab_type": "code",
    "id": "K-iyIxzqyqsL"
   },
   "outputs": [],
   "source": [
    "def load_data(file_path):\n",
    "    sentences = []\n",
    "    labels = []\n",
    "    with open(file_path) as file:\n",
    "        words = []\n",
    "        tags = []\n",
    "        for line in file:\n",
    "            line = line.split()\n",
    "            if not line and words:\n",
    "                sentences.append(words)\n",
    "                labels.append(tags)\n",
    "                words = []\n",
    "                tags = []\n",
    "            else:\n",
    "                words.append(line[0])\n",
    "                tags.append(line[1])\n",
    "    return {'sentences': sentences, 'labels': labels}"
   ]
  },
  {
   "cell_type": "code",
   "execution_count": null,
   "metadata": {
    "colab": {},
    "colab_type": "code",
    "id": "OvjicKJgyqsP"
   },
   "outputs": [],
   "source": [
    "train_data = load_data('pos/train.txt')\n",
    "valid_data = load_data('pos/valid.txt')\n",
    "test_data = load_data('pos/test.txt')"
   ]
  },
  {
   "cell_type": "code",
   "execution_count": null,
   "metadata": {
    "colab": {},
    "colab_type": "code",
    "id": "hjpYaBuiESRu"
   },
   "outputs": [],
   "source": [
    "def encode_sentence(sentence, tokenizer):\n",
    "    input_ids = []\n",
    "    token_start_pos = []\n",
    "    for token in sentence:\n",
    "        token_start_pos.append(len(input_ids))\n",
    "        input_ids += tokenizer.tokenize(token)\n",
    "    input_ids = tokenizer.convert_tokens_to_ids(input_ids)\n",
    "    return input_ids, token_start_pos"
   ]
  },
  {
   "cell_type": "code",
   "execution_count": null,
   "metadata": {
    "colab": {},
    "colab_type": "code",
    "id": "opLiteXEik3m"
   },
   "outputs": [],
   "source": [
    "def batch_encode_sentences(batch_sentences, tokenizer):\n",
    "    batch_input_ids = []\n",
    "    batch_token_start_pos = []\n",
    "    for sentence in batch_sentences:\n",
    "        input_ids, token_start_pos = encode_sentence(sentence, tokenizer)\n",
    "        batch_input_ids.append(input_ids)\n",
    "        batch_token_start_pos.append(token_start_pos)\n",
    "    return batch_input_ids, batch_token_start_pos"
   ]
  },
  {
   "cell_type": "code",
   "execution_count": null,
   "metadata": {
    "colab": {},
    "colab_type": "code",
    "id": "ZwlCSMvW85jR"
   },
   "outputs": [],
   "source": [
    "from numpy import random\n",
    "import torch\n",
    "\n",
    "def get_data_loader(sentences, labels, tokenizer, batch_size, shuffle=False, random_seed=0):\n",
    "    indices = list(range(len(labels)))\n",
    "    if shuffle:\n",
    "        random.seed(random_seed)\n",
    "        random.shuffle(indices)\n",
    "    for i in range((len(indices) - 1) // batch_size + 1):\n",
    "        batch_sentences = [sentences[idx] for idx in indices[i*batch_size:(i+1)*batch_size]]\n",
    "        batch_labels = [labels[idx] for idx in indices[i*batch_size:(i+1)*batch_size]]\n",
    "        batch_input_ids, batch_token_start_pos = batch_encode_sentences(batch_sentences, tokenizer)\n",
    "\n",
    "        max_ids_len = max([len(input_ids) for input_ids in batch_input_ids])\n",
    "        max_sentence_len = max([len(sentence) for sentence in batch_sentences])\n",
    "\n",
    "        batch_modified_labels = []\n",
    "        batch_masks = []\n",
    "        for i in range(len(batch_sentences)):\n",
    "            input_ids = batch_input_ids[i]\n",
    "\n",
    "            attention_mask = [1]*len(input_ids) + [0]*(max_ids_len-len(input_ids))\n",
    "            batch_masks.append(attention_mask)\n",
    "\n",
    "            token_start_pos = batch_token_start_pos[i]\n",
    "            input_ids += [0]*(max_ids_len-len(input_ids))\n",
    "\n",
    "            modified_labels = [-1]*max_ids_len\n",
    "            for j in range(len(token_start_pos)):\n",
    "                modified_labels[token_start_pos[j]] = tag2idx[batch_labels[i][j]]       \n",
    "            batch_modified_labels.append(modified_labels)\n",
    "                \n",
    "        batch_input_ids = torch.LongTensor(batch_input_ids) \n",
    "        batch_modified_labels = torch.LongTensor(batch_modified_labels)\n",
    "        batch_masks = torch.LongTensor(batch_masks)\n",
    "        \n",
    "        yield batch_input_ids, batch_modified_labels, batch_masks "
   ]
  },
  {
   "cell_type": "code",
   "execution_count": null,
   "metadata": {
    "colab": {},
    "colab_type": "code",
    "id": "jvAcnMG3rekv"
   },
   "outputs": [],
   "source": [
    "from transformers import BertForTokenClassification\n",
    "from transformers import AdamW\n",
    "import logging\n",
    "logging.getLogger(\"transformers.modeling_utils\").setLevel(logging.ERROR)\n",
    "model = BertForTokenClassification.from_pretrained('bert-base-uncased', num_labels=tagset_size).cuda()"
   ]
  },
  {
   "cell_type": "code",
   "execution_count": null,
   "metadata": {
    "colab": {},
    "colab_type": "code",
    "id": "rbm38Jimyqsk"
   },
   "outputs": [],
   "source": [
    "import numpy as np\n",
    "\n",
    "def accuracy(outputs, labels):\n",
    "    mask = (labels >= 0)\n",
    "    n_tokens = int(np.sum(mask))\n",
    "    \n",
    "    return np.sum(labels == np.argmax(outputs, axis=1)) / n_tokens"
   ]
  },
  {
   "cell_type": "code",
   "execution_count": null,
   "metadata": {
    "colab": {},
    "colab_type": "code",
    "id": "E7xeREr9yqsm"
   },
   "outputs": [],
   "source": [
    "from tqdm.auto import tqdm\n",
    "\n",
    "def train(model, criterion, accuracy, optimizer, scheduler, data_loader, data_len, mixed_precision=False, scaler=None):\n",
    "    model.train()\n",
    "    train_loss, train_acc = float('inf'), 0.\n",
    "    losses, accuracies = [], []\n",
    "    tqdm_iterator = tqdm(enumerate(data_loader), total=data_len, leave=False, disable=True)\n",
    "    summary_every = data_len//10\n",
    "    for i, data in tqdm_iterator:\n",
    "        input_ids = data[0].cuda()\n",
    "        attention_mask = data[2].cuda()\n",
    "        labels = data[1].cuda()\n",
    "\n",
    "        if mixed_precision:\n",
    "            with torch.cuda.amp.autocast():\n",
    "                outputs = model(input_ids, attention_mask)\n",
    "                loss = criterion(outputs[0].view(-1, outputs[0].shape[-1]), labels.view(-1))\n",
    "\n",
    "            optimizer.zero_grad()\n",
    "            scaler.scale(loss).backward()\n",
    "            scaler.step(optimizer)\n",
    "            scaler.update()\n",
    "            \n",
    "            # this if condition is added to prevent \"UserWarning: Detected call of `lr_scheduler.step()` before `optimizer.step()`.\"\n",
    "            if optimizer._step_count >= 1:\n",
    "                scheduler.step()\n",
    "        else:\n",
    "            outputs = model(input_ids, attention_mask)\n",
    "            loss = criterion(outputs[0].view(-1, outputs[0].shape[-1]), labels.view(-1))\n",
    "            optimizer.zero_grad()\n",
    "            loss.backward()   \n",
    "            optimizer.step()\n",
    "            scheduler.step()\n",
    "\n",
    "        losses.append(loss.item())\n",
    "        outputs, labels = outputs[0].view(-1, outputs[0].shape[-1]).data.cpu().numpy(), labels.data.cpu().numpy()\n",
    "        acc = accuracy(outputs, labels.flatten())\n",
    "        accuracies.append(acc)\n",
    "        \n",
    "        if i % summary_every == 0:\n",
    "            train_loss = float(np.mean(losses))\n",
    "            train_acc = float(np.mean(accuracies))\n",
    "            tqdm_iterator.set_postfix(loss='{:.4f}'.format(train_loss), acc='{:.4f}'.format(train_acc))\n",
    "            losses = []\n",
    "            accuraies = []\n",
    "    return float(train_loss), float(train_acc)"
   ]
  },
  {
   "cell_type": "code",
   "execution_count": null,
   "metadata": {
    "colab": {},
    "colab_type": "code",
    "id": "Yl1pzDxw0JzV"
   },
   "outputs": [],
   "source": [
    "def evaluate(model, criterion, accuracy, data_loader, data_len):\n",
    "    model.eval()\n",
    "    losses, accuracies = [], []\n",
    "    tqdm_iterator = tqdm(enumerate(data_loader), total=data_len, leave=False, disable=True)\n",
    "    with torch.no_grad():\n",
    "        for i, data in tqdm_iterator:\n",
    "            input_ids = data[0].cuda()\n",
    "            attention_mask = data[2].cuda()\n",
    "            labels = data[1].cuda()\n",
    "            outputs = model(input_ids, attention_mask)\n",
    "            loss = criterion(outputs[0].view(-1, outputs[0].shape[-1]), labels.view(-1))\n",
    "            outputs, labels = outputs[0].view(-1, outputs[0].shape[-1]).data.cpu().numpy(), labels.data.cpu().numpy()\n",
    "            acc = accuracy(outputs, labels.flatten())\n",
    "            losses.append(loss.item())\n",
    "            accuracies.append(acc)\n",
    "    eval_loss = np.mean(losses)\n",
    "    eval_acc = np.mean(accuracies)\n",
    "    \n",
    "    return float(eval_loss), float(eval_acc)"
   ]
  },
  {
   "cell_type": "code",
   "execution_count": null,
   "metadata": {
    "colab": {},
    "colab_type": "code",
    "id": "tDCBykqr_3ZL"
   },
   "outputs": [],
   "source": [
    "from transformers import get_linear_schedule_with_warmup\n",
    "\n",
    "def train_and_evaluate(model, criterion, accuracy, optimizer,\n",
    "                       train_data, val_data, tokenizer, batch_size, n_epochs, mixed_precision=False):\n",
    "    best_eval_loss = float('inf')\n",
    "    best_epochs = 0\n",
    "    summary = {'train': {'loss': [], 'acc': []}, \n",
    "               'val': {'loss': [], 'acc': []}}\n",
    "    print('start training: ')\n",
    "    train_data_len = (len(train_data['sentences']) - 1) // batch_size + 1\n",
    "    eval_data_len = (len(valid_data['sentences']) - 1) // batch_size + 1\n",
    "    scheduler = get_linear_schedule_with_warmup(optimizer, num_warmup_steps=0, \n",
    "                                                num_training_steps=train_data_len*n_epochs)\n",
    "    scaler = None\n",
    "    if mixed_precision:\n",
    "        scaler = torch.cuda.amp.GradScaler()\n",
    "    for i in range(1, n_epochs + 1):\n",
    "        print('-'*50)\n",
    "        print('epoch ', i, ':')\n",
    "        train_data_loader = get_data_loader(train_data['sentences'], train_data['labels'], tokenizer, batch_size)\n",
    "        train_loss, train_acc = train(model, criterion, accuracy, optimizer, scheduler, train_data_loader, train_data_len, mixed_precision, scaler)\n",
    "        summary['train']['loss'].append(train_loss)\n",
    "        summary['train']['acc'].append(train_acc)\n",
    "        print('train loss: {:.4f}; train acc: {:.4f}'.format(train_loss, train_acc))\n",
    "        \n",
    "        eval_data_loader = get_data_loader(valid_data['sentences'], valid_data['labels'], tokenizer, batch_size)\n",
    "        eval_loss, eval_acc = evaluate(model, criterion, accuracy, eval_data_loader, eval_data_len)\n",
    "        if eval_loss < best_eval_loss:\n",
    "            best_eval_loss = eval_loss\n",
    "            best_epochs = i\n",
    "        summary['val']['loss'].append(eval_loss)\n",
    "        summary['val']['acc'].append(eval_acc)\n",
    "        print('eval loss: {:.4f}; eval acc: {:.4f}'.format(eval_loss, eval_acc))\n",
    "    print('-'*50)\n",
    "    print('finish training.')\n",
    "    \n",
    "    summary['best_eval_loss'] = best_eval_loss\n",
    "    summary['best_epochs'] = best_epochs\n",
    "        \n",
    "    return summary"
   ]
  },
  {
   "cell_type": "code",
   "execution_count": null,
   "metadata": {
    "colab": {},
    "colab_type": "code",
    "id": "odzCCr4-yqso"
   },
   "outputs": [],
   "source": [
    "from torch import nn\n",
    "from transformers import BertTokenizer\n",
    "\n",
    "tokenizer = BertTokenizer.from_pretrained('bert-base-uncased')\n",
    "model = BertForTokenClassification.from_pretrained('bert-base-uncased', num_labels=tagset_size).cuda()\n",
    "criterion = nn.CrossEntropyLoss(ignore_index = -1)\n",
    "optimizer = AdamW(model.parameters(), lr=3e-5, weight_decay=0.01)"
   ]
  },
  {
   "cell_type": "code",
   "execution_count": null,
   "metadata": {
    "colab": {},
    "colab_type": "code",
    "id": "W8_MGPN7yqss"
   },
   "outputs": [],
   "source": [
    "batch_size = 64\n",
    "n_epochs = 7"
   ]
  },
  {
   "cell_type": "code",
   "execution_count": null,
   "metadata": {
    "colab": {
     "base_uri": "https://localhost:8080/",
     "height": 552
    },
    "colab_type": "code",
    "executionInfo": {
     "elapsed": 498398,
     "status": "ok",
     "timestamp": 1597275366513,
     "user": {
      "displayName": "SHUAI LIU",
      "photoUrl": "",
      "userId": "07410506735890927073"
     },
     "user_tz": 420
    },
    "id": "AdNLHR7OBJQI",
    "outputId": "266030d8-049f-4f4f-dcc1-60ae86426374"
   },
   "outputs": [
    {
     "name": "stdout",
     "output_type": "stream",
     "text": [
      "start training: \n",
      "--------------------------------------------------\n",
      "epoch  1 :\n",
      "train loss: 0.4983; train acc: 0.6789\n",
      "eval loss: 0.4157; eval acc: 0.9045\n",
      "--------------------------------------------------\n",
      "epoch  2 :\n",
      "train loss: 0.2861; train acc: 0.9173\n",
      "eval loss: 0.2800; eval acc: 0.9307\n",
      "--------------------------------------------------\n",
      "epoch  3 :\n",
      "train loss: 0.2257; train acc: 0.9383\n",
      "eval loss: 0.2510; eval acc: 0.9361\n",
      "--------------------------------------------------\n",
      "epoch  4 :\n",
      "train loss: 0.1920; train acc: 0.9479\n",
      "eval loss: 0.2387; eval acc: 0.9385\n",
      "--------------------------------------------------\n",
      "epoch  5 :\n",
      "train loss: 0.1745; train acc: 0.9526\n",
      "eval loss: 0.2308; eval acc: 0.9414\n",
      "--------------------------------------------------\n",
      "epoch  6 :\n",
      "train loss: 0.1576; train acc: 0.9582\n",
      "eval loss: 0.2268; eval acc: 0.9420\n",
      "--------------------------------------------------\n",
      "epoch  7 :\n",
      "train loss: 0.1509; train acc: 0.9611\n",
      "eval loss: 0.2269; eval acc: 0.9430\n",
      "--------------------------------------------------\n",
      "finish training.\n"
     ]
    }
   ],
   "source": [
    "summary = train_and_evaluate(model, criterion, accuracy, optimizer, train_data, valid_data, tokenizer, batch_size, n_epochs, mixed_precision=True)"
   ]
  },
  {
   "cell_type": "code",
   "execution_count": null,
   "metadata": {
    "colab": {},
    "colab_type": "code",
    "id": "yeJpTYprFWnq"
   },
   "outputs": [],
   "source": [
    "import matplotlib.pyplot as plt\n",
    "\n",
    "def plot_summary(summary):\n",
    "    data_len = len(summary['train']['loss'])\n",
    "\n",
    "    plt.figure(figsize=(15,5))\n",
    "    plt.subplots_adjust(wspace=0.3, hspace=0.3)\n",
    "\n",
    "    plt.subplot(121)\n",
    "    plt.subplots_adjust(wspace=0.3, hspace=0.3)\n",
    "    plt.plot(np.arange(1, data_len+1), summary['train']['loss'],  label='train')\n",
    "    plt.plot(np.arange(1, data_len+1), summary['val']['loss'], label='val')\n",
    "    plt.legend()\n",
    "    plt.xlabel('number of epochs', fontsize=12)\n",
    "    plt.ylabel('loss', fontsize=12)\n",
    "\n",
    "    plt.subplot(122)\n",
    "    plt.plot(np.arange(1, data_len+1), summary['train']['acc'],  label='train')\n",
    "    plt.plot(np.arange(1, data_len+1), summary['val']['acc'], label='val')\n",
    "    plt.legend()\n",
    "    plt.xlabel('number of epochs', fontsize=12)\n",
    "    plt.ylabel('acc', fontsize=12)\n",
    "\n",
    "    plt.show()"
   ]
  },
  {
   "cell_type": "code",
   "execution_count": null,
   "metadata": {
    "colab": {
     "base_uri": "https://localhost:8080/",
     "height": 337
    },
    "colab_type": "code",
    "executionInfo": {
     "elapsed": 663,
     "status": "ok",
     "timestamp": 1597275367218,
     "user": {
      "displayName": "SHUAI LIU",
      "photoUrl": "",
      "userId": "07410506735890927073"
     },
     "user_tz": 420
    },
    "id": "E-3lde3yFZwd",
    "outputId": "f970320b-9331-4ccd-fef7-c23b909625cd"
   },
   "outputs": [
    {
     "data": {
      "image/png": "[encoded data removed]",
      "text/plain": [
       "<Figure size 1080x360 with 2 Axes>"
      ]
     },
     "metadata": {
      "needs_background": "light",
      "tags": []
     },
     "output_type": "display_data"
    }
   ],
   "source": [
    "plot_summary(summary)"
   ]
  },
  {
   "cell_type": "code",
   "execution_count": null,
   "metadata": {
    "colab": {},
    "colab_type": "code",
    "id": "i8vQV3XjSx4r"
   },
   "outputs": [],
   "source": [
    "def test(model, criterion, accuracy, test_data, tokenizer, batch_size):\n",
    "    test_data_loader = get_data_loader(test_data['sentences'], test_data['labels'], tokenizer, batch_size)\n",
    "    test_data_len = (len(test_data['sentences']) - 1) // batch_size + 1\n",
    "    test_loss, test_acc = evaluate(model, criterion, accuracy, test_data_loader, test_data_len)\n",
    "\n",
    "    print('test loss: {:.4f}; test acc: {:.4f}'.format(test_loss, test_acc))"
   ]
  },
  {
   "cell_type": "code",
   "execution_count": null,
   "metadata": {
    "colab": {
     "base_uri": "https://localhost:8080/",
     "height": 34
    },
    "colab_type": "code",
    "executionInfo": {
     "elapsed": 13075,
     "status": "ok",
     "timestamp": 1597275379654,
     "user": {
      "displayName": "SHUAI LIU",
      "photoUrl": "",
      "userId": "07410506735890927073"
     },
     "user_tz": 420
    },
    "id": "GXiCVd1dTh_B",
    "outputId": "2cb3a487-6a76-40d3-d651-83d30d9178ea"
   },
   "outputs": [
    {
     "name": "stdout",
     "output_type": "stream",
     "text": [
      "test loss: 0.2661; test acc: 0.9348\n"
     ]
    }
   ],
   "source": [
    "test(model, criterion, accuracy, test_data, tokenizer, batch_size)"
   ]
  }
 ],
 "metadata": {
  "accelerator": "GPU",
  "colab": {
   "collapsed_sections": [],
   "name": "Bert_pos_tagging.ipynb",
   "provenance": []
  },
  "kernelspec": {
   "display_name": "Python 3",
   "language": "python",
   "name": "python3"
  },
  "language_info": {
   "codemirror_mode": {
    "name": "ipython",
    "version": 3
   },
   "file_extension": ".py",
   "mimetype": "text/x-python",
   "name": "python",
   "nbconvert_exporter": "python",
   "pygments_lexer": "ipython3",
   "version": "3.7.7"
  }
 },
 "nbformat": 4,
 "nbformat_minor": 1
}
